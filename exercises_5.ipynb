{
 "cells": [
  {
   "cell_type": "markdown",
   "metadata": {},
   "source": [
    "# **Exercise 1:**\n",
    "Write a program that removes the first, third and fourth number from a list if they\n",
    " are there.\n",
    " Example 1:<br>\n",
    " my_lst = [1,2,3,4,5,6]<br>\n",
    " Output:<br>\n",
    " The new list is: [2,5,6]<br>\n",
    " Example 2:<br>\n",
    " my_lst = [1,2,3]<br>\n",
    " Output:<br>\n",
    " The new list is: [2]"
   ]
  },
  {
   "cell_type": "code",
   "execution_count": 9,
   "metadata": {},
   "outputs": [
    {
     "name": "stdout",
     "output_type": "stream",
     "text": [
      "The new list is [2, 5, 6]\n",
      "The new list is [2]\n"
     ]
    }
   ],
   "source": [
    "my_lst1 = [1, 2, 3, 4, 5, 6]\n",
    "my_lst1.remove(1)\n",
    "my_lst1.remove(3)\n",
    "my_lst1.remove(4)\n",
    "print(\"The new list is\", my_lst1)\n",
    "\n",
    "my_lst2 = [1, 2, 3]\n",
    "my_lst2.remove(1)\n",
    "my_lst2.remove(3)\n",
    "print(\"The new list is\", my_lst2)"
   ]
  },
  {
   "cell_type": "markdown",
   "metadata": {},
   "source": [
    " # **Exercise 2:** \n",
    " Write a program that combines two tuples into one tuple.<br>\n",
    " Example 1:<br>\n",
    " tuple_1 = (1,2,3)<br>\n",
    " tuple_2 = (4,5,6)<br>\n",
    " Output:<br>\n",
    " The new tuple is: (1,2,3,4,5,6)<br>\n",
    " Example 2:<br>\n",
    " tuple_1 = (2,3,7,4)<br>\n",
    " tuple_2 = (7,1)<br>\n",
    " Output:<br>\n",
    " The new tuple is: (2,3,7,4,7,1)"
   ]
  },
  {
   "cell_type": "code",
   "execution_count": 11,
   "metadata": {},
   "outputs": [
    {
     "name": "stdout",
     "output_type": "stream",
     "text": [
      "The new tuple is (1, 2, 3, 4, 5, 6)\n",
      "The new tuple is (2, 3, 7, 4, 7, 1)\n"
     ]
    }
   ],
   "source": [
    "tuple_1 = (1, 2, 3)\n",
    "tuple_2 = (4, 5, 6)\n",
    "print(\"The new tuple is\", tuple_1 + tuple_2)\n",
    "\n",
    "tuple_1 = (2, 3, 7, 4)\n",
    "tuple_2 = (7, 1)\n",
    "print(\"The new tuple is\", tuple_1 + tuple_2)"
   ]
  },
  {
   "cell_type": "markdown",
   "metadata": {},
   "source": [
    " # **Exercise 3.1:** \n",
    " Write a program that takes a list and split it into two tuples of the same size.<br>\n",
    " Example 1:<br>\n",
    " my_lst = [6,2,7,4,3]<br>\n",
    " Output:<br>\n",
    " Tuple 1 is: (6,2,7)<br>\n",
    " Tuple 2 is: (4,3)<br>\n",
    " Example 2:<br>\n",
    " my_lst = [‘a’, ‘b’, ‘c’, 1, 2, 3, 4, ‘d’, 5, “hello”]<br>\n",
    " Output:<br>\n",
    " Tuple 1 is: (‘a’, ‘b’, ‘c’, 1, 2)<br>\n",
    " Tuple 2 is: (3, 4, ‘d’, 5, “hello”)"
   ]
  },
  {
   "cell_type": "code",
   "execution_count": 35,
   "metadata": {},
   "outputs": [
    {
     "name": "stdout",
     "output_type": "stream",
     "text": [
      "Tuple 1 is: (6, 2, 7) \n",
      "Tuple 2 is:  (4, 3)\n",
      "Tuple 1 is: ('a', 'b', 'c', 1) \n",
      "Tuple 2 is:  (2, 3, 4, 'd', 5, 'hello')\n"
     ]
    }
   ],
   "source": [
    "my_lst = [6,2,7,4,3]\n",
    "tuple1 = tuple(my_lst[0:3])\n",
    "tuple2 = tuple(my_lst[3:])\n",
    "print(\"Tuple 1 is:\", tuple1, \"\\nTuple 2 is: \", tuple2)\n",
    "\n",
    "my_lst = ['a', 'b', 'c', 1, 2, 3, 4, 'd', 5, 'hello']\n",
    "tuple1 = tuple(my_lst[0:4])\n",
    "tuple2 = tuple(my_lst[4:])\n",
    "print(\"Tuple 1 is:\", tuple1, \"\\nTuple 2 is: \", tuple2)"
   ]
  },
  {
   "cell_type": "markdown",
   "metadata": {},
   "source": [
    " # **Exercise 3.2:** \n",
    " Alternate the elements between the two tuples(tuple 1 has elements with<br>\n",
    " index (0,2,4,6,8, etc.) tuple 2 has elements with index (1,3,5,7,9, etc.))<br>\n",
    " Example 1:<br>\n",
    " my_lst = [6,2,7,4,3]<br>\n",
    " Output:<br>\n",
    " Tuple 1 is: [6,7,3]<br>\n",
    " Tuple 2 is: [2,4]<br>\n",
    " Example 2:<br>\n",
    " my_lst = [‘a’, ‘b’, ‘c’, 1, 2, 3, 4, ‘d’, 5, “hello”]<br>\n",
    " Output:<br>\n",
    " Tuple 1 is: [‘a’, ‘c’, 2, 4, 5]<br>\n",
    " Tuple 2 is: [‘b’, 1, 3, ‘d’, “hello”]"
   ]
  },
  {
   "cell_type": "code",
   "execution_count": 40,
   "metadata": {},
   "outputs": [
    {
     "name": "stdout",
     "output_type": "stream",
     "text": [
      "Tuple1 is: ('Toyota', 'Peugeot', 'Seat', 'Skoda', 'Ford') \n",
      "Tuple2 is: ('BMW', 'Audi', 'Mercedes', 'Volvo')\n"
     ]
    }
   ],
   "source": [
    "my_lst = ['Toyota', 'BMW', 'Peugeot', 'Audi', 'Seat', 'Mercedes', 'Skoda', 'Volvo', 'Ford', 'Kia']\n",
    "tuple1 = tuple(my_lst[0:9:2])\n",
    "tuple2 = tuple(my_lst[1:9:2])\n",
    "print('Tuple1 is:', tuple1, '\\nTuple2 is:' , tuple2)"
   ]
  },
  {
   "cell_type": "markdown",
   "metadata": {},
   "source": [
    " # **Exercise 4:** \n",
    " Write a program that has a list containing 5 tuples that each have 2 numbers.<br>\n",
    " Sort the list in ascending order of the last number in each tuple.<br>\n",
    " Example 1:<br>\n",
    " Example 2:<br>\n",
    " my_lst = [(3,2), (3,1), (4,3), (3,4), (3,5)]<br>\n",
    " Output:<br>\n",
    " The ordered list is: [(3,1), (3,2), (4,3), (3,4),\n",
    " (3,5)]<br>\n",
    " my_lst = [(5,2), (6,1), (4,2), (3,4), (7,5)]<br>\n",
    " Output:<br>\n",
    " The ordered list is: [(6,1), (5,2), (4,2), (3,4),\n",
    " (7,5)]\n"
   ]
  },
  {
   "cell_type": "code",
   "execution_count": 51,
   "metadata": {},
   "outputs": [
    {
     "name": "stdout",
     "output_type": "stream",
     "text": [
      "The ordered list is: [(3, 1), (3, 2), (3, 4), (3, 5), (4, 3)]\n",
      "The ordered list is: [(7, 5), (6, 1), (5, 2), (4, 2), (3, 4)]\n"
     ]
    }
   ],
   "source": [
    "my_lst = [(3,2), (3,1), (4,3), (3,4), (3,5)]\n",
    "my_lst.sort()\n",
    "print('The ordered list is:', my_lst)\n",
    "\n",
    "my_lst = [(5,2), (6,1), (4,2), (3,4), (7,5)]\n",
    "my_lst.sort(reverse = True)\n",
    "print('The ordered list is:', my_lst)\n"
   ]
  },
  {
   "cell_type": "markdown",
   "metadata": {},
   "source": [
    "# **Exercise 5.1:** \n",
    "Write a program that calculates the average of a list containing 5 elements.<br>\n",
    " Example 1:<br>\n",
    " my_lst = [2, 2, 3, 3, 4]<br>\n",
    " Output:<br>\n",
    " The average is 2.8<br>\n",
    " Example 2:<br>\n",
    " my_lst = [7, 7, 2, 2, 3]<br>\n",
    " Output:<br>\n",
    " The average is 4.2"
   ]
  },
  {
   "cell_type": "code",
   "execution_count": 55,
   "metadata": {},
   "outputs": [
    {
     "name": "stdout",
     "output_type": "stream",
     "text": [
      "The average is : 2.8\n",
      "The average is : 4.2\n"
     ]
    }
   ],
   "source": [
    "my_lst = [2, 2, 3, 3, 4,]\n",
    "total_lst = sum(my_lst)\n",
    "average = total_lst / len(my_lst)\n",
    "print('The average is :', average)\n",
    "\n",
    "my_lst = [7, 7, 2, 2, 3]\n",
    "total_lst = sum(my_lst)\n",
    "average = total_lst / len(my_lst)\n",
    "print('The average is :', average)"
   ]
  },
  {
   "cell_type": "markdown",
   "metadata": {},
   "source": [
    " # **Exercise 5.2:** \n",
    " Add a number to the list that turns the average into 5.<br>\n",
    " Example 1:<br>\n",
    " my_lst = [2, 2, 3, 3, 4]<br>\n",
    " Output:<br>\n",
    " The average was 2.8<br>\n",
    " Added 16, new list is [2, 2, 3, 3, 4, 16]<br>\n",
    " The average is now 5<br>\n",
    " Example 2:<br>\n",
    " my_lst = [7, 7, 2, 2, 3]<br>\n",
    " Output:<br>\n",
    " The average is 4.2<br>\n",
    " Added 9, new list is [7, 7, 2, 2, 3, 9]<br>\n",
    " The average is now 5"
   ]
  },
  {
   "cell_type": "code",
   "execution_count": 65,
   "metadata": {},
   "outputs": [
    {
     "name": "stdout",
     "output_type": "stream",
     "text": [
      "The average was : 2.8\n",
      "Added 16, new list is : [2, 2, 3, 3, 4, 16]\n",
      "The average is now : 5.0\n",
      "The average was : 4.2\n",
      "Added 9, new list is: [7, 7, 2, 2, 3, 9] \n",
      "Theaverage is now: 5.0\n"
     ]
    }
   ],
   "source": [
    "my_lst = [2, 2, 3, 3, 4,]\n",
    "total_lst = sum(my_lst)\n",
    "average = total_lst / len(my_lst)\n",
    "print('The average was :', average,)\n",
    "\n",
    "new_lst = my_lst.append(16)\n",
    "total_lst = sum(my_lst)\n",
    "average = total_lst / len(my_lst)\n",
    "print('Added 16, new list is :', my_lst )\n",
    "print('The average is now :', average)\n",
    "\n",
    "\n",
    "my_lst = [7, 7, 2, 2, 3]\n",
    "total_lst = sum(my_lst)\n",
    "average = total_lst / len(my_lst)\n",
    "print('The average was :', average)\n",
    "\n",
    "new_lst = my_lst.append(9)\n",
    "total_lst = sum(my_lst) \n",
    "average = total_lst / len(my_lst)\n",
    "print('Added 9, new list is:', my_lst , '\\nTheaverage is now:', average)"
   ]
  },
  {
   "cell_type": "markdown",
   "metadata": {},
   "source": [
    "# **Exercise 6:**  \n",
    "A 2D list is a list that contains multiple lists. This is often used to depict<br>\n",
    " coordinates (x and y). Here is a 2D list of size 4 by 4 that contains only the number 1.<br>\n",
    " [[1, 1, 1, 1],<br>\n",
    " [1 ,1 ,1 ,1],<br>\n",
    " [1 ,1 ,1 ,1],<br>\n",
    " [1 ,1 ,1 ,1]]<br>\n",
    " Create a 2D list of size 6 by 6 containing only 3’s in 2 lines of code. Don’t use for-loops and\n",
    " keep to the PEP 8. Print the list.<br>\n",
    " Example:<br>\n",
    " Output:<br>\n",
    " [[3, 3, 3, 3, 3, 3], [3, 3, 3, 3, 3, 3], [3, 3, 3, 3, 3, 3], [3, 3, 3, 3, 3, 3], [3, 3, 3, 3, 3, 3], [3, 3, 3, 3,\n",
    " 3, 3]]"
   ]
  }
 ],
 "metadata": {
  "kernelspec": {
   "display_name": "Python 3",
   "language": "python",
   "name": "python3"
  },
  "language_info": {
   "codemirror_mode": {
    "name": "ipython",
    "version": 3
   },
   "file_extension": ".py",
   "mimetype": "text/x-python",
   "name": "python",
   "nbconvert_exporter": "python",
   "pygments_lexer": "ipython3",
   "version": "3.12.1"
  }
 },
 "nbformat": 4,
 "nbformat_minor": 2
}
