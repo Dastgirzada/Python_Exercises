letter = input("Enter a letter: ")
letters = ["a", "e", "o", "i", "u"]

if letter in letters:
    print("This is a vowel letter")
else:
    print("This is not a vowel letter")