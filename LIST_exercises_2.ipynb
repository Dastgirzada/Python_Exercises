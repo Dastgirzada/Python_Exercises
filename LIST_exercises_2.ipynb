{
 "cells": [
  {
   "cell_type": "markdown",
   "metadata": {},
   "source": [
    "# **Exercise 1:**\n",
    "Write a program that checks if a list is empty or not. Use the len() function!\n",
    " <br> Example 1:\n",
    "  my_lst = []<br>\n",
    " Output:<br>\n",
    " This list is empty!<br>\n",
    " Example 2:<br>\n",
    " my_lst = [6,6,3,2,4,5,5]<br>\n",
    " Output:<br>\n",
    " This list is not empty!<br>"
   ]
  },
  {
   "cell_type": "code",
   "execution_count": 11,
   "metadata": {},
   "outputs": [
    {
     "name": "stdout",
     "output_type": "stream",
     "text": [
      "This list is empty!\n",
      "7 This list is not empty!\n"
     ]
    }
   ],
   "source": [
    "my_lst = []\n",
    "if my_lst != []: #checks if a list is empty or not.\n",
    "    print(len(my_lst), \"This list is not empty!\")\n",
    "else:\n",
    "    print(\"This list is empty!\")\n",
    "    \n",
    "my_lst = [6,6,3,2,4,5,5]\n",
    "if my_lst != []:\n",
    "    print(len(my_lst), \"This list is not empty!\")\n",
    "else:\n",
    "    print(\"This list is empty!\")"
   ]
  },
  {
   "cell_type": "markdown",
   "metadata": {},
   "source": [
    "# **Exercise 2:**\n",
    "Write a program that reorders a list and removes the largest and smallest\n",
    " number from it. <br>\n",
    " Example 1:<br>\n",
    " my_lst = [6,2,7,4,3]<br>\n",
    " Output:<br>\n",
    " The new list is: [3,4,6]<br>\n",
    " Example 2:<br>\n",
    " my_lst = [6,6,3,2,4,5,5]<br>\n",
    " Output:<br>\n",
    " The new list is: [3,4,5,5,6]<br>"
   ]
  },
  {
   "cell_type": "code",
   "execution_count": 22,
   "metadata": {},
   "outputs": [
    {
     "name": "stdout",
     "output_type": "stream",
     "text": [
      "The new list is: [3, 4, 6]\n",
      "The new list is: [3, 4, 5, 5, 6]\n"
     ]
    }
   ],
   "source": [
    "my_lst = [6, 2, 7, 4, 3]\n",
    "my_lst.remove(2)\n",
    "my_lst.remove(7)\n",
    "my_lst.sort()\n",
    "print(\"The new list is:\", my_lst)\n",
    "my_lst = [6, 6, 3, 2, 4, 5, 5,]\n",
    "my_lst.remove(6)\n",
    "my_lst.remove(2)\n",
    "my_lst.sort()\n",
    "print(\"The new list is:\", my_lst)"
   ]
  },
  {
   "cell_type": "markdown",
   "metadata": {},
   "source": [
    "#  **Exercise 3:** \n",
    "Write a program that converts a list (size of 5) of characters into a string.<br>\n",
    " Example 1:<br>\n",
    " my_lst = ['h', 'e', 'l', 'l', 'o']<br>\n",
    " Output:<br>\n",
    " The string is: hello<br>\n",
    " Example 2:<br>\n",
    " my_lst = [‘h’, ‘e’, ‘y’]<br>\n",
    " Output:<br>\n",
    " This list doesn’t have the right size<br>"
   ]
  },
  {
   "cell_type": "code",
   "execution_count": 36,
   "metadata": {},
   "outputs": [
    {
     "name": "stdout",
     "output_type": "stream",
     "text": [
      "The string is:  hello\n",
      "This list doesn't have the right size.\n"
     ]
    }
   ],
   "source": [
    "my_lst = ['h', 'e', 'l', 'l', 'o']\n",
    "new_lst = '' .join(my_lst)\n",
    "if len(my_lst) == 5:\n",
    "    print(\"The string is: \", new_lst)\n",
    "\n",
    "my_lst = ['h', 'e', 'y']\n",
    "new_lst = '' .join(my_lst)\n",
    "if len(new_lst) == 5:\n",
    "    print(\"The string is: \", new_lst)\n",
    "else:\n",
    "    print(\"This list doesn't have the right size.\")"
   ]
  },
  {
   "cell_type": "markdown",
   "metadata": {},
   "source": [
    " ## **Exercise 4.1:** \n",
    " Someone called Frank has a list containing how many days he was sick each\n",
    " quarter of a year. <br> So the first element of the list dictates how many days he was sick in the\n",
    " first quarter of the year. <br>Frank usually has dance lessons every day, but when he is sick he\n",
    " doesn’t go. <br> Write a program that shows how many days Frank went dancing last year.<br>\n",
    " Example 1:<br>\n",
    " sick_days = [10, 4, 5, 19] <br>\n",
    " Output:<br>\n",
    " Frank was sick for 38 days.<br>\n",
    " He went dancing for 327 days<br>\n",
    " Example 2:<br>\n",
    " sick_days = [0, 4, 1,-1]<br>\n",
    " Output:<br>\n",
    " Frank can’t be sick for-1 days!<br>\n"
   ]
  },
  {
   "cell_type": "code",
   "execution_count": 40,
   "metadata": {},
   "outputs": [
    {
     "name": "stdout",
     "output_type": "stream",
     "text": [
      "Frank was sick for 38 days\n",
      "He went dancing for 327 days\n"
     ]
    }
   ],
   "source": [
    "#Example :1\n",
    "#list of the sick days of last year.\n",
    "sick_days_per_quarter = [10, 4, 5, 19]\n",
    "total_sick_days_last_year = sum(sick_days_per_quarter)\n",
    "print(\"Frank was sick for\", total_sick_days_last_year, \"days\")\n",
    "went_dancing = 365 - sum(sick_days_per_quarter)\n",
    "print(\"He went dancing for\", went_dancing, \"days\" )\n",
    "\n",
    "#Example : 2\n",
    "sick_days_per_quarter = [0, 4, 1, -1]\n",
    "total_sick_days_last_year = sum(sick_days_per_quarter)\n",
    "print(\"Frank was sick for\", total_sick_days_last_year, \"days\")\n",
    "went_dancing = 365 - sum(sick_days_per_quarter)\n",
    "print(\"He went dancing for\", went_dancing, \"days\" )"
   ]
  },
  {
   "cell_type": "markdown",
   "metadata": {},
   "source": [
    "# **Exercise 4.2:**\n",
    " Frank now has danced for another year, making another list. <br>He wants to\n",
    " check in which quarter of the last two years he got sick the most.<br> Write a program that turns\n",
    " the two lists into one list of length 8 and then check which quarter he was sick the most\n",
    " often.<br>\n",
    " Example 1:<br>\n",
    " sick_days_1 = [10, 4, 5, 19]<br>\n",
    " sick_days_2 = [7, 8, 2, 12]<br>\n",
    " Output:<br>\n",
    " The full list of frank’s sick days is: [10, 4, 5,\n",
    " 19, 7, 8, 2, 12].<br>\n",
    " Frank was sick the most in quarter 4 of the\n",
    " first year.<br>\n",
    " Example 2:<br>\n",
    " sick_days_1 = [0, 4, 1, 2]<br>\n",
    " sick_days_1 = [3, 4, 0, 0]<br>\n",
    " Output:<br>\n",
    " The full list of frank’s sick days is: [0, 4, 1, 2,\n",
    " 3, 4, 0, 0].<br>\n",
    " Frank was sick the most in quarter 6 of the\n",
    " second year.<br>\n",
    " OR\n",
    " Ouput:<br>\n",
    " The full list of frank’s sick days is: [0, 4, 1, 2,\n",
    " 3, 4, 0, 0].<br>\n",
    " Frank was sick the most in quarter 2 of the\n",
    " first year.<br>"
   ]
  }
 ],
 "metadata": {
  "kernelspec": {
   "display_name": "Python 3",
   "language": "python",
   "name": "python3"
  },
  "language_info": {
   "codemirror_mode": {
    "name": "ipython",
    "version": 3
   },
   "file_extension": ".py",
   "mimetype": "text/x-python",
   "name": "python",
   "nbconvert_exporter": "python",
   "pygments_lexer": "ipython3",
   "version": "3.12.1"
  }
 },
 "nbformat": 4,
 "nbformat_minor": 2
}
