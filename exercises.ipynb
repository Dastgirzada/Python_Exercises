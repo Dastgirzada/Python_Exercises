{
 "cells": [
  {
   "cell_type": "markdown",
   "metadata": {},
   "source": [
    "# **Exercise 1:**\n",
    "\n",
    " Write a program that tells the user whether a letter is a vowel or not."
   ]
  },
  {
   "cell_type": "code",
   "execution_count": 3,
   "metadata": {},
   "outputs": [
    {
     "name": "stdout",
     "output_type": "stream",
     "text": [
      "This is a vowel letter\n"
     ]
    }
   ],
   "source": [
    "letter = input(\"Enter a letter: \")\n",
    "letters = [\"a\", \"e\", \"o\", \"i\", \"u\"]\n",
    "\n",
    "if letter in letters:\n",
    "    print(\"This is a vowel letter\")\n",
    "else:\n",
    "    print(\"This is not a vowel letter\")"
   ]
  },
  {
   "cell_type": "markdown",
   "metadata": {
    "notebookRunGroups": {
     "groupValue": ""
    }
   },
   "source": [
    "# **Exercise 2:**\n",
    "\n",
    "Write a program that prints whether an integer is in between 1000 and 2000. If it is not, print\n",
    " whether it is lower than 1000 or higher than 2000."
   ]
  },
  {
   "cell_type": "code",
   "execution_count": 11,
   "metadata": {},
   "outputs": [
    {
     "name": "stdout",
     "output_type": "stream",
     "text": [
      "This number is lower then 1000\n"
     ]
    }
   ],
   "source": [
    "Number = int(input(\"Enter a number between 1000 and 2000: \"))\n",
    "if Number >= 1000:\n",
    "    print(\"Great the number is in between 1000 and 2000. \")\n",
    "    \n",
    "else:\n",
    "    print(\"This number is lower then 1000\")\n",
    "    "
   ]
  }
 ],
 "metadata": {
  "kernelspec": {
   "display_name": "Python 3",
   "language": "python",
   "name": "python3"
  },
  "language_info": {
   "codemirror_mode": {
    "name": "ipython",
    "version": 3
   },
   "file_extension": ".py",
   "mimetype": "text/x-python",
   "name": "python",
   "nbconvert_exporter": "python",
   "pygments_lexer": "ipython3",
   "version": "3.12.1"
  }
 },
 "nbformat": 4,
 "nbformat_minor": 2
}
