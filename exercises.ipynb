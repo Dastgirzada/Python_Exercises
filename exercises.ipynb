{
 "cells": [
  {
   "cell_type": "markdown",
   "metadata": {},
   "source": [
    "# **Exercise 1:**\n",
    "\n",
    " Write a program that tells the user whether a letter is a vowel or not."
   ]
  },
  {
   "cell_type": "code",
   "execution_count": 3,
   "metadata": {},
   "outputs": [
    {
     "name": "stdout",
     "output_type": "stream",
     "text": [
      "This is a vowel letter\n"
     ]
    }
   ],
   "source": [
    "letter = input(\"Enter a letter: \")\n",
    "letters = [\"a\", \"e\", \"o\", \"i\", \"u\"]\n",
    "\n",
    "if letter in letters:\n",
    "    print(\"This is a vowel letter\")\n",
    "else:\n",
    "    print(\"This is not a vowel letter\")"
   ]
  },
  {
   "cell_type": "markdown",
   "metadata": {
    "notebookRunGroups": {
     "groupValue": ""
    }
   },
   "source": [
    "# **Exercise 2:**\n",
    "\n",
    "Write a program that prints whether an integer is in between 1000 and 2000. If it is not, print\n",
    " whether it is lower than 1000 or higher than 2000."
   ]
  },
  {
   "cell_type": "code",
   "execution_count": 6,
   "metadata": {},
   "outputs": [
    {
     "name": "stdout",
     "output_type": "stream",
     "text": [
      "Great the number is in between 1000 and 2000. \n"
     ]
    }
   ],
   "source": [
    "Number = int(input(\"Enter a number between 1000 and 2000: \"))\n",
    "if Number >= 1000 and Number <= 2000:\n",
    "    print(\"Great the number is in between 1000 and 2000. \")\n",
    "elif Number >= 2000:\n",
    "    print(\"This number is higher then 2000\")\n",
    "else:\n",
    "    print(\"This number is lower then 1000\")\n",
    "    "
   ]
  },
  {
   "cell_type": "markdown",
   "metadata": {},
   "source": [
    "# **Exercise 3:**\n",
    "Write a program that prints the sum of 3 given numbers, but if all 3 numbers are the same it\n",
    "should print 4 times the sum of the 3 numbers.\n",
    "Example 1:\n",
    "first_number: 10\n",
    "second_number: 12\n",
    "third_number: 8\n",
    "Output:\n",
    "The sum of these numbers is 30\n",
    "Example 2:\n",
    "first_number: 10\n",
    "second_number: 10\n",
    "third_number: 10\n",
    "Output:\n",
    "These numbers are the same!\n",
    "The sum of these numbers is 30\n",
    "Multiplied by 4 this becomes 120\n"
   ]
  },
  {
   "cell_type": "code",
   "execution_count": 25,
   "metadata": {},
   "outputs": [
    {
     "name": "stdout",
     "output_type": "stream",
     "text": [
      "These numbers are the same!\n",
      "The sum of these numbers is 9 \n",
      "Multiplied by 4 this become 36\n"
     ]
    }
   ],
   "source": [
    "first_num = int(input(\"enter num1\"))\n",
    "second_num = int(input(\"enter  num2\"))\n",
    "third_num = int(input(\"enter  num3\"))\n",
    "\n",
    "if first_num == second_num == third_num:\n",
    "    Sum = (first_num + second_num + third_num)\n",
    "    total_Sum = Sum * 4\n",
    "    print(\"These numbers are the same!\\nThe sum of these numbers is\", Sum, \"\\nMultiplied by 4 this become\", total_Sum )\n",
    "else:\n",
    "    total_Sum = first_num + second_num + third_num\n",
    "    print(\"The sum of these numbers is\", total_Sum)\n"
   ]
  },
  {
   "cell_type": "markdown",
   "metadata": {},
   "source": [
    "# **Exercies 4:**\n",
    "Write a program that finds the largest of 4 numbers.\n",
    "Example 1:\n",
    "first_number: 10\n",
    "second_number: 12\n",
    "third_number: 8\n",
    "fourth_number: 24\n",
    "Output:\n",
    "The largest number is 24\n",
    "Example 2:\n",
    "first_number: 10\n",
    "second_number: 10\n",
    "third_number: 10\n",
    "fourth_number: 4\n",
    "Output:\n",
    "The largest number is 10"
   ]
  },
  {
   "cell_type": "code",
   "execution_count": 31,
   "metadata": {},
   "outputs": [
    {
     "name": "stdout",
     "output_type": "stream",
     "text": [
      "The largest number is 21\n"
     ]
    }
   ],
   "source": [
    "num1 = int(input(\"Enter num1: \"))\n",
    "num2 = int(input(\"Enter num2: \"))\n",
    "num3 = int(input(\"Enter num3: \"))\n",
    "num4 = int(input(\"Enter num4: \"))\n",
    "largest = num1\n",
    "\n",
    "if num2 > largest:\n",
    "    largest = num2\n",
    "if num3 > largest:\n",
    "    largest = num3\n",
    "if num4 > largest:\n",
    "    largest = num4\n",
    "print(\"The largest number is\", largest)\n",
    "    "
   ]
  },
  {
   "cell_type": "markdown",
   "metadata": {},
   "source": [
    "# Exercise 5:\n",
    "In a certain tax system, people who earn more have to pay a higher percentage of taxes. For\n",
    "example:\n",
    "People earning under €67000 have to pay 24% of all of their earnings to the government in\n",
    "taxes.\n",
    "People earning under €97000 have to pay 31% of all of their earnings to the government in\n",
    "taxes.\n",
    "People earning more than €97000 have to pay 34% of all of their earnings to the government\n",
    "in taxes.\n",
    "Write a program that calculates how much money someone has left after taxes, given their\n",
    "income.\n",
    "Example 1:\n",
    "income = 58200\n",
    "Output:\n",
    "Your income after taxes is 44232 euro’s\n",
    "Example 2:\n",
    "income = 101000\n",
    "Output:\n",
    "Your income after taxes is 66660 euros"
   ]
  },
  {
   "cell_type": "code",
   "execution_count": 41,
   "metadata": {},
   "outputs": [
    {
     "name": "stdout",
     "output_type": "stream",
     "text": [
      "Your income after tax is 46920.0\n"
     ]
    }
   ],
   "source": [
    "income = int(input(\"Enter amount of your Salary:\"))\n",
    "\n",
    "if income < 67000:\n",
    "    tax = 24 / 100 * income \n",
    "elif income < 97000:\n",
    "    tax = 31 / 100 * income \n",
    "elif income > 97000:\n",
    "    tax = 34 / 100 * income \n",
    "print(\"Your income after tax is\", income - tax)"
   ]
  },
  {
   "cell_type": "markdown",
   "metadata": {},
   "source": [
    "# **Exercise 6:**\n",
    "Write a program that takes a string with a maximum size of 5. Do something different\n",
    "depending on the size of the string:\n",
    "1 Letter: Print the letter 6 times (a = aaaaaa)\n",
    "2 Letters: Switch the position of the letters (at = ta)\n",
    "3 Letters: Move the last letter from the back to the front (Dog = gDo)\n",
    "4 Letters: Print the reverse of the word (Wait = taiW)\n",
    "5 Letters: Print the word divided by t (Brain = Btrtatitn)"
   ]
  },
  {
   "cell_type": "code",
   "execution_count": null,
   "metadata": {},
   "outputs": [],
   "source": []
  },
  {
   "cell_type": "markdown",
   "metadata": {},
   "source": [
    "# **Exercise 7:**\n",
    "Write a program that gives the user a basic test with three questions. If they have a question\n",
    "wrong stop the quiz, if they have it right give them the next question.\n",
    "Example 1:\n",
    "What is 2 * 2? 4\n",
    "That is correct!\n",
    "What is 6 / 3? 2\n",
    "That is also correct!\n",
    "What is 9 * 9? 18\n",
    "Correct! You passed the test!\n",
    "Example 2:\n",
    "What is 2 * 2? 4\n",
    "That is correct!\n",
    "What is 6 / 3? 20\n",
    "That is false, you failed the test!"
   ]
  },
  {
   "cell_type": "code",
   "execution_count": null,
   "metadata": {},
   "outputs": [],
   "source": [
    "Question_1 int(input(\"What is 12 * 2? \"))\n",
    "Question_2 int(input(\"What is 22 + 12? \"))\n",
    "Question_3 int(input(\"What is 3 * 2? \"))\n",
    "Question_4 int(input(\"What is 31 - 10? \"))\n",
    "\n"
   ]
  }
 ],
 "metadata": {
  "kernelspec": {
   "display_name": "Python 3",
   "language": "python",
   "name": "python3"
  },
  "language_info": {
   "codemirror_mode": {
    "name": "ipython",
    "version": 3
   },
   "file_extension": ".py",
   "mimetype": "text/x-python",
   "name": "python",
   "nbconvert_exporter": "python",
   "pygments_lexer": "ipython3",
   "version": "3.12.1"
  }
 },
 "nbformat": 4,
 "nbformat_minor": 2
}
